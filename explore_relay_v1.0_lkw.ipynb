{
 "cells": [
  {
   "cell_type": "code",
   "execution_count": 43,
   "metadata": {},
   "outputs": [],
   "source": [
    "import serial\n",
    "import crcmod\n",
    "\n",
    "# COM port configuration\n",
    "RelayCOMPort = 'COM8'"
   ]
  },
  {
   "cell_type": "code",
   "execution_count": 22,
   "metadata": {},
   "outputs": [],
   "source": [
    "# Open serial port at com 8\n",
    "def openSerial(COM: str):\n",
    "    serialPort = serial.Serial(COM, 38400, timeout=1)\n",
    "    return serialPort\n",
    "\n",
    "RelayCOM = openSerial(RelayCOMPort)\n"
   ]
  },
  {
   "cell_type": "code",
   "execution_count": 20,
   "metadata": {},
   "outputs": [],
   "source": [
    "# close serial port\n",
    "def closeSerial(serialPort: str):\n",
    "    serialPort.close()\n",
    "\n",
    "closeSerial(RelayCOM)"
   ]
  },
  {
   "cell_type": "code",
   "execution_count": 30,
   "metadata": {},
   "outputs": [],
   "source": [
    "# seiral port write in hex\n",
    "def writeHexSerial(serialPort: str, command: str):\n",
    "    hex_command = bytes.fromhex(command)\n",
    "    serialPort.write(hex_command)\n",
    "    response = serialPort.read(serialPort.in_waiting)\n",
    "    return response\n",
    "\n",
    "# all relay on command\n",
    "allRelayOn = '01 06 00 34 00 01 09 C4'\n",
    "allRelayOff = '01 06 00 34 00 00 C8 04'"
   ]
  },
  {
   "cell_type": "code",
   "execution_count": 35,
   "metadata": {},
   "outputs": [
    {
     "name": "stdout",
     "output_type": "stream",
     "text": [
      "b'\\x01\\x06\\x004\\x00\\x00\\xc8\\x04'\n"
     ]
    }
   ],
   "source": [
    "response = writeHexSerial(RelayCOM, allRelayOn)\n",
    "print(response)"
   ]
  },
  {
   "cell_type": "code",
   "execution_count": 36,
   "metadata": {},
   "outputs": [
    {
     "name": "stdout",
     "output_type": "stream",
     "text": [
      "b'\\x01\\x06\\x004\\x00\\x01\\t\\xc4'\n"
     ]
    }
   ],
   "source": [
    "response = writeHexSerial(RelayCOM, allRelayOff)\n",
    "print(response) "
   ]
  },
  {
   "cell_type": "code",
   "execution_count": 47,
   "metadata": {},
   "outputs": [
    {
     "name": "stdout",
     "output_type": "stream",
     "text": [
      "04c8\n"
     ]
    }
   ],
   "source": [
    "# Use library to calculate CRC-16 Modbus for the last two byte of a command\n",
    "command_1 = '01 06 00 34 00 00'\n",
    "\n",
    "# Convert the command to bytes\n",
    "command_bytes = bytes.fromhex(command_1.replace(\" \", \"\"))\n",
    "\n",
    "# Define the CRC-16 Modbus function\n",
    "crc16 = crcmod.mkCrcFun(0x18005, rev=True, initCrc=0xFFFF, xorOut=0x0000)\n",
    "\n",
    "# Calculate the CRC\n",
    "crc_result = crc16(command_bytes)\n",
    "\n",
    "# Print the result in hexadecimal\n",
    "print(format(crc_result, '04x'))"
   ]
  },
  {
   "cell_type": "code",
   "execution_count": null,
   "metadata": {},
   "outputs": [],
   "source": [
    "# create a library of command to controll relay on and off\n"
   ]
  }
 ],
 "metadata": {
  "kernelspec": {
   "display_name": ".env",
   "language": "python",
   "name": "python3"
  },
  "language_info": {
   "codemirror_mode": {
    "name": "ipython",
    "version": 3
   },
   "file_extension": ".py",
   "mimetype": "text/x-python",
   "name": "python",
   "nbconvert_exporter": "python",
   "pygments_lexer": "ipython3",
   "version": "3.11.5"
  }
 },
 "nbformat": 4,
 "nbformat_minor": 2
}
