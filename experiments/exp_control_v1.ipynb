{
 "cells": [
  {
   "cell_type": "code",
   "execution_count": 7,
   "metadata": {},
   "outputs": [],
   "source": [
    "import serial\n",
    "import crcmod\n",
    "import struct\n",
    "import sys\n",
    "import time\n",
    "import threading\n",
    "\n",
    "# Replace this with the absolute path to the directory containing your module\n",
    "module_dir = '/Users/kpt/Code/pyRelay'\n",
    "\n",
    "\n",
    "# Add the directory to sys.path\n",
    "if module_dir not in sys.path:\n",
    "    sys.path.append(module_dir)\n",
    "\n",
    "# Now you can import your module (replace 'module' with the name of your Python file without the .py extension)\n",
    "from zsrelay import ZsRelay\n"
   ]
  },
  {
   "cell_type": "code",
   "execution_count": 2,
   "metadata": {},
   "outputs": [
    {
     "name": "stdout",
     "output_type": "stream",
     "text": [
      "/dev/cu.wlan-debug - n/a\n",
      "/dev/cu.Bluetooth-Incoming-Port - n/a\n",
      "/dev/cu.usbserial-A552B77CF6 - M5stack\n"
     ]
    }
   ],
   "source": [
    "# list out the serial ports\n",
    "def list_ports():\n",
    "    import serial.tools.list_ports\n",
    "    ports = serial.tools.list_ports.comports()\n",
    "    for port in ports:\n",
    "        print(port)\n",
    "\n",
    "list_ports()"
   ]
  },
  {
   "cell_type": "code",
   "execution_count": 3,
   "metadata": {},
   "outputs": [
    {
     "data": {
      "text/plain": [
       "Serial<id=0x1073822f0, open=True>(port='/dev/cu.usbserial-A552B77CF6', baudrate=38400, bytesize=8, parity='N', stopbits=1, timeout=1, xonxoff=False, rtscts=False, dsrdtr=False)"
      ]
     },
     "execution_count": 3,
     "metadata": {},
     "output_type": "execute_result"
    }
   ],
   "source": [
    "baudrate = 38400\n",
    "port = '/dev/cu.usbserial-A552B77CF6' #insert the port in string format\n",
    "dev_pos = 1\n",
    "\n",
    "zsr = ZsRelay(baudrate, port, dev_pos)\n",
    "zsr.openSerial()"
   ]
  },
  {
   "cell_type": "code",
   "execution_count": 4,
   "metadata": {},
   "outputs": [
    {
     "data": {
      "text/plain": [
       "b''"
      ]
     },
     "execution_count": 4,
     "metadata": {},
     "output_type": "execute_result"
    }
   ],
   "source": [
    "# Initialise relay controller with an all off switch command\n",
    "all_off_s = '01 06 00 34 00 00 C8 04' #needs formatting to bytes while removing spaces\n",
    "all_off_b = bytes.fromhex(all_off_s) #converts hex string to bytes also handles spaces ' '\n",
    "zsr.writeByte(all_off_b)"
   ]
  },
  {
   "cell_type": "code",
   "execution_count": 12,
   "metadata": {},
   "outputs": [
    {
     "name": "stdout",
     "output_type": "stream",
     "text": [
      "Turning on relay 1\n"
     ]
    },
    {
     "name": "stdout",
     "output_type": "stream",
     "text": [
      "Turning off relay 1\n"
     ]
    }
   ],
   "source": [
    "# for the range of 0 to 7 (8 relays) turn them on one by one\n",
    "# channel 0 is on for x seconds then off\n",
    "# channel 1 is on for x seconds then off\n",
    "experiment = False\n",
    "experiment_lock = threading.Lock()\n",
    "\n",
    "def loop_exp(start_channel: int, end_channel: int, delay_s: int):\n",
    "    global experiment\n",
    "    with experiment_lock:\n",
    "        experiment = True\n",
    "    for i in range(start_channel, end_channel):\n",
    "        print('Turning on relay ' + str(i))\n",
    "        zsr.turnOnRelay(i)\n",
    "        time.sleep(delay_s)\n",
    "        print('Turning off relay ' + str(i))\n",
    "        zsr.turnOffRelay(i)\n",
    "        time.sleep(delay_s)\n",
    "    with experiment_lock:\n",
    "        experiment = False\n",
    "    \n",
    "    print('Experiment complete')\n",
    "    \n",
    "\n",
    "exp_thread = threading.Thread(target=loop_exp, args=(1, 5, 5))  # Replace these arguments with your desired values\n",
    "\n",
    "# Start the thread\n",
    "exp_thread.start()"
   ]
  },
  {
   "cell_type": "code",
   "execution_count": 41,
   "metadata": {},
   "outputs": [],
   "source": [
    "# Example of another function that checks the experiment state\n",
    "def check_experiment_state():\n",
    "    with experiment_lock:\n",
    "    # Here you can add logic to perform actions based on the experiment state\n",
    "        if experiment:\n",
    "            print(\"Experiment is running\")\n",
    "        else:\n",
    "            print(\"Experiment is not running\")"
   ]
  },
  {
   "cell_type": "code",
   "execution_count": 42,
   "metadata": {},
   "outputs": [
    {
     "name": "stdout",
     "output_type": "stream",
     "text": [
      "Experiment is not running\n"
     ]
    }
   ],
   "source": [
    "check_experiment_state()"
   ]
  },
  {
   "cell_type": "markdown",
   "metadata": {},
   "source": []
  }
 ],
 "metadata": {
  "kernelspec": {
   "display_name": "ser-env",
   "language": "python",
   "name": "python3"
  },
  "language_info": {
   "codemirror_mode": {
    "name": "ipython",
    "version": 3
   },
   "file_extension": ".py",
   "mimetype": "text/x-python",
   "name": "python",
   "nbconvert_exporter": "python",
   "pygments_lexer": "ipython3",
   "version": "3.10.13"
  }
 },
 "nbformat": 4,
 "nbformat_minor": 2
}
