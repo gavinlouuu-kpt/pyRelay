{
 "cells": [
  {
   "cell_type": "code",
   "execution_count": 2,
   "metadata": {},
   "outputs": [],
   "source": [
    "import serial\n",
    "import crcmod\n",
    "import struct\n",
    "\n",
    "# COM port configuration\n",
    "RelayCOMPort = 'COM8'"
   ]
  },
  {
   "cell_type": "markdown",
   "metadata": {},
   "source": [
    "# Serial communication needs to be done in Bytes for this ZS Relay Board not Hex"
   ]
  },
  {
   "cell_type": "code",
   "execution_count": 61,
   "metadata": {},
   "outputs": [],
   "source": [
    "# Open serial port at com 8\n",
    "def openSerial(COM: str):\n",
    "    serialPort = serial.Serial(COM, 38400, timeout=1)\n",
    "    return serialPort\n",
    "\n",
    "RelayCOM = openSerial(RelayCOMPort)\n"
   ]
  },
  {
   "cell_type": "code",
   "execution_count": 60,
   "metadata": {},
   "outputs": [],
   "source": [
    "# close serial port\n",
    "def closeSerial(serialPort: str):\n",
    "    serialPort.close()\n",
    "\n",
    "closeSerial(RelayCOM)"
   ]
  },
  {
   "cell_type": "code",
   "execution_count": 86,
   "metadata": {},
   "outputs": [],
   "source": [
    "# seiral port write in hex\n",
    "def writeHexSerial(serialPort: str, command: str):\n",
    "    hex_command = bytes.fromhex(command)\n",
    "    serialPort.write(hex_command)\n",
    "    response = serialPort.read(serialPort.in_waiting or 1)\n",
    "    return response\n",
    "\n",
    "# all relay on command\n",
    "allRelayOn = '01 06 00 34 00 01 09 C4'\n",
    "allRelayOff = '01 06 00 34 00 00 C8 04'"
   ]
  },
  {
   "cell_type": "code",
   "execution_count": 110,
   "metadata": {},
   "outputs": [],
   "source": [
    "def writeByteSerial(serialPort: str, command: bytes):\n",
    "    serialPort.write(command)\n",
    "    response = serialPort.read(serialPort.in_waiting or 1)\n",
    "    return response"
   ]
  },
  {
   "cell_type": "code",
   "execution_count": 87,
   "metadata": {},
   "outputs": [
    {
     "name": "stdout",
     "output_type": "stream",
     "text": [
      "b'\\x01'\n"
     ]
    }
   ],
   "source": [
    "response = writeHexSerial(RelayCOM, allRelayOn)\n",
    "print(response)"
   ]
  },
  {
   "cell_type": "code",
   "execution_count": 105,
   "metadata": {},
   "outputs": [
    {
     "name": "stdout",
     "output_type": "stream",
     "text": [
      "b'\\x06\\x004\\x00\\x01\\t\\xc4'\n"
     ]
    }
   ],
   "source": [
    "response = writeHexSerial(RelayCOM, allRelayOff)\n",
    "print(response) "
   ]
  },
  {
   "cell_type": "code",
   "execution_count": 98,
   "metadata": {},
   "outputs": [
    {
     "name": "stdout",
     "output_type": "stream",
     "text": [
      "09c4\n"
     ]
    }
   ],
   "source": [
    "# Use library to calculate CRC-16 Modbus for the last two byte of a command\n",
    "command_1 = '01 06 00 34 00 01'\n",
    "\n",
    "# Convert the command to bytes\n",
    "command_bytes = bytes.fromhex(command_1.replace(\" \", \"\"))\n",
    "\n",
    "# Define the CRC-16 Modbus function\n",
    "crc16 = crcmod.mkCrcFun(0x18005, rev=True, initCrc=0xFFFF, xorOut=0x0000)\n",
    "\n",
    "# Calculate the CRC\n",
    "crc_result = crc16(command_bytes)\n",
    "\n",
    "# reverse the bytes order\n",
    "crc_result = struct.pack(\"<H\", crc_result)\n",
    "\n",
    "# command_1b = binascii.hexlify(crc_result)\n",
    "\n",
    "# Print the result in hexadecimal\n",
    "print(crc_result.hex())"
   ]
  },
  {
   "cell_type": "code",
   "execution_count": 101,
   "metadata": {},
   "outputs": [
    {
     "name": "stdout",
     "output_type": "stream",
     "text": [
      "b'\\x01\\x06\\x004\\x00\\x01'\n",
      "b'\\x01\\x06\\x004\\x00\\x01\\t\\xc4'\n"
     ]
    }
   ],
   "source": [
    "# practice to use string based command to obtain crc\n",
    "# combine the byte form of command with crc (byte form)\n",
    "# send out the command\n",
    "\n",
    "command_1_hex = bytes.fromhex(command_1)\n",
    "print(command_1_hex)\n",
    "full_command_1 = command_1_hex + crc_result\n",
    "print(full_command_1)\n",
    "response = writeHexSerial(RelayCOM, full_command_1.hex())"
   ]
  },
  {
   "cell_type": "code",
   "execution_count": 103,
   "metadata": {},
   "outputs": [
    {
     "name": "stdout",
     "output_type": "stream",
     "text": [
      "1\n",
      "b'\\x01'\n"
     ]
    }
   ],
   "source": [
    "# practice with decimal, hex and bytes\n",
    "pos_1 = 1\n",
    "print(pos_1)\n",
    "# bytes of pos_1\n",
    "pos_1_bytes = pos_1.to_bytes(1, byteorder='big')\n",
    "print(pos_1_bytes)\n",
    "# note that the result is in hex \\x01 instead of 1\n",
    "# bytes and binary are different"
   ]
  },
  {
   "cell_type": "code",
   "execution_count": 114,
   "metadata": {},
   "outputs": [
    {
     "name": "stdout",
     "output_type": "stream",
     "text": [
      "b'\\x01\\x06\\x004\\x00\\x01'\n",
      "b'\\t\\xc4'\n",
      "01060034000109c4\n"
     ]
    }
   ],
   "source": [
    "# breakout crc logic to a function\n",
    "def crc16Modbus(command: bytes):\n",
    "    crc16 = crcmod.mkCrcFun(0x18005, rev=True, initCrc=0xFFFF, xorOut=0x0000)\n",
    "    crc_result = crc16(command)\n",
    "    crc_result = struct.pack(\"<H\", crc_result)\n",
    "    return crc_result\n",
    "\n",
    "# test the function\n",
    "# command_1 = '01 06 00 34 00 01'\n",
    "command_1_hex = bytes.fromhex(command_1)\n",
    "print(command_1_hex)\n",
    "crc_result = crc16Modbus(command_1_hex)\n",
    "print(crc_result)\n",
    "full_command_1 = command_1_hex + crc_result\n",
    "print(full_command_1.hex())"
   ]
  },
  {
   "cell_type": "code",
   "execution_count": 12,
   "metadata": {},
   "outputs": [
    {
     "name": "stdout",
     "output_type": "stream",
     "text": [
      "010600010000d80a\n"
     ]
    }
   ],
   "source": [
    "# create a library of command to controll relay on and off\n",
    "# default device position is 01 \n",
    "# on and off action is 06\n",
    "# relay address consist of 2 bytes i.e., 00 01 for channel 2\n",
    "# the next 2 bytes are the on and off state i.e., 00 00 for off and 00 01 for on\n",
    "# the last 2 bytes are the CRC-16 Modbus\n",
    "# the function takes in hex string for device position, relay address and relay state\n",
    "# the function returns a hex string command\n",
    "\n",
    "def _switchCommand(devicePosition: int, relayAddress: int, relayState: int) -> bytes:\n",
    "    devicePosition = devicePosition.to_bytes(1, byteorder='big')\n",
    "    relayAddress = relayAddress.to_bytes(2, byteorder='big')\n",
    "    relayState = relayState.to_bytes(2, byteorder='big')\n",
    "    command = devicePosition + b'\\x06' + relayAddress + relayState\n",
    "    crc16 = crcmod.mkCrcFun(0x18005, rev=True, initCrc=0xFFFF, xorOut=0x0000)\n",
    "    crc_result = crc16(command)\n",
    "    crc_result = struct.pack(\"<H\", crc_result)\n",
    "    full_command = command + crc_result\n",
    "    return full_command\n",
    "\n",
    "\n",
    "\n",
    "constr_command = _switchCommand(1,1,0)\n",
    "print(constr_command.hex())"
   ]
  },
  {
   "cell_type": "code",
   "execution_count": 116,
   "metadata": {},
   "outputs": [],
   "source": [
    "response = writeByteSerial(RelayCOM, constr_command)"
   ]
  },
  {
   "cell_type": "markdown",
   "metadata": {},
   "source": [
    "# Attempt to change the code to class of function"
   ]
  },
  {
   "cell_type": "code",
   "execution_count": 10,
   "metadata": {},
   "outputs": [
    {
     "data": {
      "text/plain": [
       "Serial<id=0x107d3e140, open=True>(port='/dev/tty.usbserial-A552B77CF6', baudrate=38400, bytesize=8, parity='N', stopbits=1, timeout=1, xonxoff=False, rtscts=False, dsrdtr=False)"
      ]
     },
     "execution_count": 10,
     "metadata": {},
     "output_type": "execute_result"
    }
   ],
   "source": [
    "# convert the functions into a class\n",
    "# the class will have the following functions\n",
    "# 1. open serial port\n",
    "# 2. close serial port\n",
    "\n",
    "# the class will have the following attributes\n",
    "# 1. serial port\n",
    "# 2. baud rate\n",
    "\n",
    "# the class will have the following methods\n",
    "# 1. open serial\n",
    "# 2. close serial\n",
    "\n",
    "\n",
    "class ZsRelay:\n",
    "    def __init__(self, baudrate: int, serialPort: str, devPos: int):\n",
    "        self.baudrate = baudrate\n",
    "        self.serialPort = serialPort\n",
    "        self.devPos = devPos\n",
    "\n",
    "    def openSerial(self):\n",
    "        self.serialPort = serial.Serial(self.serialPort, self.baudrate, timeout=1)\n",
    "        return self.serialPort\n",
    "\n",
    "    def closeSerial(self):\n",
    "        self.serialPort.close()\n",
    "        return self.serialPort\n",
    "    \n",
    "    def writeByte(self, command:bytes):\n",
    "        self.serialPort.write(command)\n",
    "        response = self.serialPort.read(self.serialPort.in_waiting)\n",
    "        return response\n",
    "    \n",
    "    def switchCommand(self, relayAddress: int, relayState: int) -> bytes:\n",
    "        devicePosition = self.devPos.to_bytes(1, byteorder='big')\n",
    "        relayAddress = relayAddress.to_bytes(2, byteorder='big')\n",
    "        relayState = relayState.to_bytes(2, byteorder='big')\n",
    "        command = devicePosition + b'\\x06' + relayAddress + relayState\n",
    "        crc16 = crcmod.mkCrcFun(0x18005, rev=True, initCrc=0xFFFF, xorOut=0x0000)\n",
    "        crc_result = crc16(command)\n",
    "        crc_result = struct.pack(\"<H\", crc_result)\n",
    "        full_command = command + crc_result\n",
    "        return full_command\n",
    "        \n",
    "    \n",
    "\n",
    "\n",
    "# example usage of the class funciton\n",
    "    \n",
    "RelayCOMPort = '/dev/tty.usbserial-A552B77CF6'\n",
    "Relay_1 = ZsRelay(38400, RelayCOMPort, 1)\n",
    "Relay_1.openSerial()\n"
   ]
  },
  {
   "cell_type": "code",
   "execution_count": 7,
   "metadata": {},
   "outputs": [
    {
     "data": {
      "text/plain": [
       "Serial<id=0x10778b490, open=False>(port='/dev/tty.usbserial-A552B77CF6', baudrate=38400, bytesize=8, parity='N', stopbits=1, timeout=1, xonxoff=False, rtscts=False, dsrdtr=False)"
      ]
     },
     "execution_count": 7,
     "metadata": {},
     "output_type": "execute_result"
    }
   ],
   "source": [
    "Relay_1.closeSerial()"
   ]
  },
  {
   "cell_type": "code",
   "execution_count": 13,
   "metadata": {},
   "outputs": [
    {
     "name": "stdout",
     "output_type": "stream",
     "text": [
      "010600010000d80a\n"
     ]
    }
   ],
   "source": [
    "print(Relay_1.switchCommand(1,0).hex())"
   ]
  },
  {
   "cell_type": "code",
   "execution_count": null,
   "metadata": {},
   "outputs": [],
   "source": []
  },
  {
   "cell_type": "code",
   "execution_count": null,
   "metadata": {},
   "outputs": [],
   "source": []
  }
 ],
 "metadata": {
  "kernelspec": {
   "display_name": ".env",
   "language": "python",
   "name": "python3"
  },
  "language_info": {
   "codemirror_mode": {
    "name": "ipython",
    "version": 3
   },
   "file_extension": ".py",
   "mimetype": "text/x-python",
   "name": "python",
   "nbconvert_exporter": "python",
   "pygments_lexer": "ipython3",
   "version": "3.10.13"
  }
 },
 "nbformat": 4,
 "nbformat_minor": 2
}
